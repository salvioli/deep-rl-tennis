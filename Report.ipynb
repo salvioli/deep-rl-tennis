{
 "cells": [
  {
   "cell_type": "markdown",
   "metadata": {},
   "source": [
    "# Deep RL tennis agents project\n",
    "\n",
    "This notebook provides a description of the implementation I submitted for the third project of the [Deep Reinforcement Learning Nanodegree](https://www.udacity.com/course/deep-reinforcement-learning-nanodegree--nd893) program.\n",
    "\n",
    "We begin starting and inspecting the envinronment and the task then we will proceed training the agents and then we will check how the two agents are playing."
   ]
  },
  {
   "cell_type": "code",
   "execution_count": 1,
   "metadata": {},
   "outputs": [
    {
     "name": "stdout",
     "output_type": "stream",
     "text": [
      "Requirement already satisfied: unityagents in /home/ammi/Development/deep-rl-tennis/lib/python3.6/site-packages (0.4.0)\n",
      "Requirement already satisfied: docopt in /home/ammi/Development/deep-rl-tennis/lib/python3.6/site-packages (from unityagents) (0.6.2)\n",
      "Requirement already satisfied: grpcio==1.11.0 in /home/ammi/Development/deep-rl-tennis/lib/python3.6/site-packages (from unityagents) (1.11.0)\n",
      "Requirement already satisfied: tensorflow==1.7.1 in /home/ammi/Development/deep-rl-tennis/lib/python3.6/site-packages (from unityagents) (1.7.1)\n",
      "Requirement already satisfied: matplotlib in /home/ammi/Development/deep-rl-tennis/lib/python3.6/site-packages (from unityagents) (3.0.2)\n",
      "Requirement already satisfied: numpy>=1.11.0 in /home/ammi/Development/deep-rl-tennis/lib/python3.6/site-packages (from unityagents) (1.15.4)\n",
      "Requirement already satisfied: pytest>=3.2.2 in /home/ammi/Development/deep-rl-tennis/lib/python3.6/site-packages (from unityagents) (4.1.0)\n",
      "Requirement already satisfied: Pillow>=4.2.1 in /home/ammi/Development/deep-rl-tennis/lib/python3.6/site-packages (from unityagents) (5.4.1)\n",
      "Requirement already satisfied: jupyter in /home/ammi/Development/deep-rl-tennis/lib/python3.6/site-packages (from unityagents) (1.0.0)\n",
      "Requirement already satisfied: pyyaml in /home/ammi/Development/deep-rl-tennis/lib/python3.6/site-packages (from unityagents) (3.13)\n",
      "Requirement already satisfied: protobuf==3.5.2 in /home/ammi/Development/deep-rl-tennis/lib/python3.6/site-packages (from unityagents) (3.5.2)\n",
      "Requirement already satisfied: six>=1.5.2 in /home/ammi/Development/deep-rl-tennis/lib/python3.6/site-packages (from grpcio==1.11.0->unityagents) (1.12.0)\n",
      "Requirement already satisfied: gast>=0.2.0 in /home/ammi/Development/deep-rl-tennis/lib/python3.6/site-packages (from tensorflow==1.7.1->unityagents) (0.2.1.post0)\n",
      "Requirement already satisfied: absl-py>=0.1.6 in /home/ammi/Development/deep-rl-tennis/lib/python3.6/site-packages (from tensorflow==1.7.1->unityagents) (0.6.1)\n",
      "Requirement already satisfied: tensorboard<1.8.0,>=1.7.0 in /home/ammi/Development/deep-rl-tennis/lib/python3.6/site-packages (from tensorflow==1.7.1->unityagents) (1.7.0)\n",
      "Requirement already satisfied: wheel>=0.26 in /home/ammi/Development/deep-rl-tennis/lib/python3.6/site-packages (from tensorflow==1.7.1->unityagents) (0.32.3)\n",
      "Requirement already satisfied: termcolor>=1.1.0 in /home/ammi/Development/deep-rl-tennis/lib/python3.6/site-packages (from tensorflow==1.7.1->unityagents) (1.1.0)\n",
      "Requirement already satisfied: astor>=0.6.0 in /home/ammi/Development/deep-rl-tennis/lib/python3.6/site-packages (from tensorflow==1.7.1->unityagents) (0.7.1)\n",
      "Requirement already satisfied: kiwisolver>=1.0.1 in /home/ammi/Development/deep-rl-tennis/lib/python3.6/site-packages (from matplotlib->unityagents) (1.0.1)\n",
      "Requirement already satisfied: cycler>=0.10 in /home/ammi/Development/deep-rl-tennis/lib/python3.6/site-packages (from matplotlib->unityagents) (0.10.0)\n",
      "Requirement already satisfied: python-dateutil>=2.1 in /home/ammi/Development/deep-rl-tennis/lib/python3.6/site-packages (from matplotlib->unityagents) (2.7.5)\n",
      "Requirement already satisfied: pyparsing!=2.0.4,!=2.1.2,!=2.1.6,>=2.0.1 in /home/ammi/Development/deep-rl-tennis/lib/python3.6/site-packages (from matplotlib->unityagents) (2.3.0)\n",
      "Requirement already satisfied: setuptools in /home/ammi/Development/deep-rl-tennis/lib/python3.6/site-packages/setuptools-28.8.0-py3.6.egg (from pytest>=3.2.2->unityagents) (28.8.0)\n",
      "Requirement already satisfied: more-itertools>=4.0.0 in /home/ammi/Development/deep-rl-tennis/lib/python3.6/site-packages (from pytest>=3.2.2->unityagents) (5.0.0)\n",
      "Requirement already satisfied: attrs>=17.4.0 in /home/ammi/Development/deep-rl-tennis/lib/python3.6/site-packages (from pytest>=3.2.2->unityagents) (18.2.0)\n",
      "Requirement already satisfied: pluggy>=0.7 in /home/ammi/Development/deep-rl-tennis/lib/python3.6/site-packages (from pytest>=3.2.2->unityagents) (0.8.1)\n",
      "Requirement already satisfied: py>=1.5.0 in /home/ammi/Development/deep-rl-tennis/lib/python3.6/site-packages (from pytest>=3.2.2->unityagents) (1.7.0)\n",
      "Requirement already satisfied: atomicwrites>=1.0 in /home/ammi/Development/deep-rl-tennis/lib/python3.6/site-packages (from pytest>=3.2.2->unityagents) (1.2.1)\n",
      "Requirement already satisfied: ipykernel in /home/ammi/Development/deep-rl-tennis/lib/python3.6/site-packages (from jupyter->unityagents) (5.1.0)\n",
      "Requirement already satisfied: notebook in /home/ammi/Development/deep-rl-tennis/lib/python3.6/site-packages (from jupyter->unityagents) (5.7.4)\n",
      "Requirement already satisfied: nbconvert in /home/ammi/Development/deep-rl-tennis/lib/python3.6/site-packages (from jupyter->unityagents) (5.4.0)\n",
      "Requirement already satisfied: qtconsole in /home/ammi/Development/deep-rl-tennis/lib/python3.6/site-packages (from jupyter->unityagents) (4.4.3)\n",
      "Requirement already satisfied: ipywidgets in /home/ammi/Development/deep-rl-tennis/lib/python3.6/site-packages (from jupyter->unityagents) (7.4.2)\n",
      "Requirement already satisfied: jupyter-console in /home/ammi/Development/deep-rl-tennis/lib/python3.6/site-packages (from jupyter->unityagents) (6.0.0)\n",
      "Requirement already satisfied: bleach==1.5.0 in /home/ammi/Development/deep-rl-tennis/lib/python3.6/site-packages (from tensorboard<1.8.0,>=1.7.0->tensorflow==1.7.1->unityagents) (1.5.0)\n",
      "Requirement already satisfied: werkzeug>=0.11.10 in /home/ammi/Development/deep-rl-tennis/lib/python3.6/site-packages (from tensorboard<1.8.0,>=1.7.0->tensorflow==1.7.1->unityagents) (0.14.1)\n",
      "Requirement already satisfied: html5lib==0.9999999 in /home/ammi/Development/deep-rl-tennis/lib/python3.6/site-packages (from tensorboard<1.8.0,>=1.7.0->tensorflow==1.7.1->unityagents) (0.9999999)\n",
      "Requirement already satisfied: markdown>=2.6.8 in /home/ammi/Development/deep-rl-tennis/lib/python3.6/site-packages (from tensorboard<1.8.0,>=1.7.0->tensorflow==1.7.1->unityagents) (3.0.1)\n",
      "Requirement already satisfied: traitlets>=4.1.0 in /home/ammi/Development/deep-rl-tennis/lib/python3.6/site-packages (from ipykernel->jupyter->unityagents) (4.3.2)\n",
      "Requirement already satisfied: tornado>=4.2 in /home/ammi/Development/deep-rl-tennis/lib/python3.6/site-packages (from ipykernel->jupyter->unityagents) (5.1.1)\n",
      "Requirement already satisfied: ipython>=5.0.0 in /home/ammi/Development/deep-rl-tennis/lib/python3.6/site-packages (from ipykernel->jupyter->unityagents) (7.2.0)\n",
      "Requirement already satisfied: jupyter-client in /home/ammi/Development/deep-rl-tennis/lib/python3.6/site-packages (from ipykernel->jupyter->unityagents) (5.2.4)\n",
      "Requirement already satisfied: terminado>=0.8.1 in /home/ammi/Development/deep-rl-tennis/lib/python3.6/site-packages (from notebook->jupyter->unityagents) (0.8.1)\n",
      "Requirement already satisfied: nbformat in /home/ammi/Development/deep-rl-tennis/lib/python3.6/site-packages (from notebook->jupyter->unityagents) (4.4.0)\n",
      "Requirement already satisfied: ipython-genutils in /home/ammi/Development/deep-rl-tennis/lib/python3.6/site-packages (from notebook->jupyter->unityagents) (0.2.0)\n",
      "Requirement already satisfied: jinja2 in /home/ammi/Development/deep-rl-tennis/lib/python3.6/site-packages (from notebook->jupyter->unityagents) (2.10)\n",
      "Requirement already satisfied: pyzmq>=17 in /home/ammi/Development/deep-rl-tennis/lib/python3.6/site-packages (from notebook->jupyter->unityagents) (17.1.2)\n",
      "Requirement already satisfied: prometheus-client in /home/ammi/Development/deep-rl-tennis/lib/python3.6/site-packages (from notebook->jupyter->unityagents) (0.5.0)\n",
      "Requirement already satisfied: Send2Trash in /home/ammi/Development/deep-rl-tennis/lib/python3.6/site-packages (from notebook->jupyter->unityagents) (1.5.0)\n",
      "Requirement already satisfied: jupyter-core>=4.4.0 in /home/ammi/Development/deep-rl-tennis/lib/python3.6/site-packages (from notebook->jupyter->unityagents) (4.4.0)\n",
      "Requirement already satisfied: mistune>=0.8.1 in /home/ammi/Development/deep-rl-tennis/lib/python3.6/site-packages (from nbconvert->jupyter->unityagents) (0.8.4)\n",
      "Requirement already satisfied: pygments in /home/ammi/Development/deep-rl-tennis/lib/python3.6/site-packages (from nbconvert->jupyter->unityagents) (2.3.1)\n",
      "Requirement already satisfied: pandocfilters>=1.4.1 in /home/ammi/Development/deep-rl-tennis/lib/python3.6/site-packages (from nbconvert->jupyter->unityagents) (1.4.2)\n",
      "Requirement already satisfied: defusedxml in /home/ammi/Development/deep-rl-tennis/lib/python3.6/site-packages (from nbconvert->jupyter->unityagents) (0.5.0)\n",
      "Requirement already satisfied: entrypoints>=0.2.2 in /home/ammi/Development/deep-rl-tennis/lib/python3.6/site-packages (from nbconvert->jupyter->unityagents) (0.3)\n",
      "Requirement already satisfied: testpath in /home/ammi/Development/deep-rl-tennis/lib/python3.6/site-packages (from nbconvert->jupyter->unityagents) (0.4.2)\n",
      "Requirement already satisfied: widgetsnbextension~=3.4.0 in /home/ammi/Development/deep-rl-tennis/lib/python3.6/site-packages (from ipywidgets->jupyter->unityagents) (3.4.2)\n",
      "Requirement already satisfied: prompt-toolkit<2.1.0,>=2.0.0 in /home/ammi/Development/deep-rl-tennis/lib/python3.6/site-packages (from jupyter-console->jupyter->unityagents) (2.0.7)\n",
      "Requirement already satisfied: decorator in /home/ammi/Development/deep-rl-tennis/lib/python3.6/site-packages (from traitlets>=4.1.0->ipykernel->jupyter->unityagents) (4.3.0)\n",
      "Requirement already satisfied: backcall in /home/ammi/Development/deep-rl-tennis/lib/python3.6/site-packages (from ipython>=5.0.0->ipykernel->jupyter->unityagents) (0.1.0)\n",
      "Requirement already satisfied: pickleshare in /home/ammi/Development/deep-rl-tennis/lib/python3.6/site-packages (from ipython>=5.0.0->ipykernel->jupyter->unityagents) (0.7.5)\n",
      "Requirement already satisfied: jedi>=0.10 in /home/ammi/Development/deep-rl-tennis/lib/python3.6/site-packages (from ipython>=5.0.0->ipykernel->jupyter->unityagents) (0.13.2)\n",
      "Requirement already satisfied: pexpect; sys_platform != \"win32\" in /home/ammi/Development/deep-rl-tennis/lib/python3.6/site-packages (from ipython>=5.0.0->ipykernel->jupyter->unityagents) (4.6.0)\n"
     ]
    },
    {
     "name": "stdout",
     "output_type": "stream",
     "text": [
      "Requirement already satisfied: ptyprocess; os_name != \"nt\" in /home/ammi/Development/deep-rl-tennis/lib/python3.6/site-packages (from terminado>=0.8.1->notebook->jupyter->unityagents) (0.6.0)\n",
      "Requirement already satisfied: jsonschema!=2.5.0,>=2.4 in /home/ammi/Development/deep-rl-tennis/lib/python3.6/site-packages (from nbformat->notebook->jupyter->unityagents) (2.6.0)\n",
      "Requirement already satisfied: MarkupSafe>=0.23 in /home/ammi/Development/deep-rl-tennis/lib/python3.6/site-packages (from jinja2->notebook->jupyter->unityagents) (1.1.0)\n",
      "Requirement already satisfied: wcwidth in /home/ammi/Development/deep-rl-tennis/lib/python3.6/site-packages (from prompt-toolkit<2.1.0,>=2.0.0->jupyter-console->jupyter->unityagents) (0.1.7)\n",
      "Requirement already satisfied: parso>=0.3.0 in /home/ammi/Development/deep-rl-tennis/lib/python3.6/site-packages (from jedi>=0.10->ipython>=5.0.0->ipykernel->jupyter->unityagents) (0.3.1)\n",
      "Requirement already satisfied: torch in /home/ammi/Development/deep-rl-tennis/lib/python3.6/site-packages (0.4.0)\n",
      "Requirement already satisfied: numpy in /home/ammi/Development/deep-rl-tennis/lib/python3.6/site-packages (1.15.4)\n",
      "Requirement already satisfied: matplotlib in /home/ammi/Development/deep-rl-tennis/lib/python3.6/site-packages (3.0.2)\n",
      "Requirement already satisfied: pyparsing!=2.0.4,!=2.1.2,!=2.1.6,>=2.0.1 in /home/ammi/Development/deep-rl-tennis/lib/python3.6/site-packages (from matplotlib) (2.3.0)\n",
      "Requirement already satisfied: cycler>=0.10 in /home/ammi/Development/deep-rl-tennis/lib/python3.6/site-packages (from matplotlib) (0.10.0)\n",
      "Requirement already satisfied: python-dateutil>=2.1 in /home/ammi/Development/deep-rl-tennis/lib/python3.6/site-packages (from matplotlib) (2.7.5)\n",
      "Requirement already satisfied: kiwisolver>=1.0.1 in /home/ammi/Development/deep-rl-tennis/lib/python3.6/site-packages (from matplotlib) (1.0.1)\n",
      "Requirement already satisfied: numpy>=1.10.0 in /home/ammi/Development/deep-rl-tennis/lib/python3.6/site-packages (from matplotlib) (1.15.4)\n",
      "Requirement already satisfied: six in /home/ammi/Development/deep-rl-tennis/lib/python3.6/site-packages (from cycler>=0.10->matplotlib) (1.12.0)\n",
      "Requirement already satisfied: setuptools in /home/ammi/Development/deep-rl-tennis/lib/python3.6/site-packages/setuptools-28.8.0-py3.6.egg (from kiwisolver>=1.0.1->matplotlib) (28.8.0)\n"
     ]
    }
   ],
   "source": [
    "!python -m pip install unityagents\n",
    "!python -m pip install torch\n",
    "!python -m pip install numpy\n",
    "!python -m pip install matplotlib"
   ]
  },
  {
   "cell_type": "markdown",
   "metadata": {},
   "source": [
    "### 1. Start the Environment\n",
    "\n",
    "We begin by importing the necessary packages.  If the code cell below returns an error, please revisit the project instructions to double-check that you have installed [Unity ML-Agents](https://github.com/Unity-Technologies/ml-agents/blob/master/docs/Installation.md) and [NumPy](http://www.numpy.org/)."
   ]
  },
  {
   "cell_type": "code",
   "execution_count": 2,
   "metadata": {},
   "outputs": [],
   "source": [
    "from unityagents import UnityEnvironment\n",
    "from tennis import *"
   ]
  },
  {
   "cell_type": "markdown",
   "metadata": {},
   "source": [
    "Next, we will start the environment!  **_Before running the code cell below_**, change the `file_name` parameter to match the location of the Unity environment that you downloaded.\n",
    "\n",
    "- **Mac**: `\"path/to/Tennis.app\"`\n",
    "- **Windows** (x86): `\"path/to/Tennis_Windows_x86/Tennis.exe\"`\n",
    "- **Windows** (x86_64): `\"path/to/Tennis_Windows_x86_64/Tennis.exe\"`\n",
    "- **Linux** (x86): `\"path/to/Tennis_Linux/Tennis.x86\"`\n",
    "- **Linux** (x86_64): `\"path/to/Tennis_Linux/Tennis.x86_64\"`\n",
    "- **Linux** (x86, headless): `\"path/to/Tennis_Linux_NoVis/Tennis.x86\"`\n",
    "- **Linux** (x86_64, headless): `\"path/to/Tennis_Linux_NoVis/Tennis.x86_64\"`\n",
    "\n",
    "For instance, if you are using a Mac, then you downloaded `Tennis.app`.  If this file is in the same folder as the notebook, then the line below should appear as follows:\n",
    "```\n",
    "env = UnityEnvironment(file_name=\"Tennis.app\")\n",
    "```"
   ]
  },
  {
   "cell_type": "code",
   "execution_count": 3,
   "metadata": {},
   "outputs": [
    {
     "name": "stderr",
     "output_type": "stream",
     "text": [
      "INFO:unityagents:\n",
      "'Academy' started successfully!\n",
      "Unity Academy name: Academy\n",
      "        Number of Brains: 1\n",
      "        Number of External Brains : 1\n",
      "        Lesson number : 0\n",
      "        Reset Parameters :\n",
      "\t\t\n",
      "Unity brain name: TennisBrain\n",
      "        Number of Visual Observations (per agent): 0\n",
      "        Vector Observation space type: continuous\n",
      "        Vector Observation space size (per agent): 8\n",
      "        Number of stacked Vector Observation: 3\n",
      "        Vector Action space type: continuous\n",
      "        Vector Action space size (per agent): 2\n",
      "        Vector Action descriptions: , \n"
     ]
    }
   ],
   "source": [
    "env = UnityEnvironment(file_name=\"resources/Tennis_Linux/Tennis.x86_64\")"
   ]
  },
  {
   "cell_type": "markdown",
   "metadata": {},
   "source": [
    "Environments contain **_brains_** which are responsible for deciding the actions of their associated agents. Here we check for the first brain available, and set it as the default brain we will be controlling from Python."
   ]
  },
  {
   "cell_type": "code",
   "execution_count": 4,
   "metadata": {},
   "outputs": [],
   "source": [
    "# get the default brain\n",
    "brain_name = env.brain_names[0]\n",
    "brain = env.brains[brain_name]"
   ]
  },
  {
   "cell_type": "markdown",
   "metadata": {},
   "source": [
    "### 2. Examine the State and Action Spaces\n",
    "\n",
    "In this environment, two agents control rackets to bounce a ball over a net. If an agent hits the ball over the net, it receives a reward of +0.1.  If an agent lets a ball hit the ground or hits the ball out of bounds, it receives a reward of -0.01.  Thus, the goal of each agent is to keep the ball in play.\n",
    "\n",
    "The observation space consists of 8 variables corresponding to the position and velocity of the ball and racket. Two continuous actions are available, corresponding to movement toward (or away from) the net, and jumping. \n",
    "\n",
    "Run the code cell below to print some information about the environment."
   ]
  },
  {
   "cell_type": "code",
   "execution_count": 5,
   "metadata": {},
   "outputs": [
    {
     "name": "stdout",
     "output_type": "stream",
     "text": [
      "Number of agents: 2\n",
      "Size of each action: 2\n",
      "There are 2 agents. Each observes a state with length: 24\n",
      "The state for the first agent looks like: [ 0.          0.          0.          0.          0.          0.\n",
      "  0.          0.          0.          0.          0.          0.\n",
      "  0.          0.          0.          0.         -6.65278625 -1.5\n",
      " -0.          0.          6.83172083  6.         -0.          0.        ]\n"
     ]
    }
   ],
   "source": [
    "# reset the environment\n",
    "env_info = env.reset(train_mode=True)[brain_name]\n",
    "\n",
    "# number of agents \n",
    "num_agents = len(env_info.agents)\n",
    "print('Number of agents:', num_agents)\n",
    "\n",
    "# size of each action\n",
    "action_size = brain.vector_action_space_size\n",
    "print('Size of each action:', action_size)\n",
    "\n",
    "# examine the state space \n",
    "states = env_info.vector_observations\n",
    "state_size = states.shape[1]\n",
    "print('There are {} agents. Each observes a state with length: {}'.format(states.shape[0], state_size))\n",
    "print('The state for the first agent looks like:', states[0])"
   ]
  },
  {
   "cell_type": "markdown",
   "metadata": {},
   "source": [
    "## Solution - shadow agent\n",
    "We try to solve the task using an algorithm which trains a DDPG agent [\\[1\\]](https://arxiv.org/pdf/1509.02971.pdf) which plays against its best version of itself. This is possible as the task is fully collaborative and the two agents are learning the same subtask: send the ball to the opponent. Effectively one agent is a classic DDPG agent while the second agent is updated with a clone of the first whenever the first average score (for 100 episodes) reaches historical maximum.\n",
    "\n",
    "The DDPG algorigthm includes the following variations with respect to the original proposed version in the paper:\n",
    "- Gradient norm clipping: the algorithm includes a norm clipping to the update of the critic local network during training\n",
    "- Exploration noise damping: the OU process providing exploratory noise is decreased proportionally to the difference between the obtained score and a score of 40 (higher than 30 to maintain a certain degree of exploration)\n",
    "\n",
    "Both variations can be enabled/disabled via the corresponding parameters. These are respectively `clip_grad_norm` passed to `DDPGAgent` constructor and `damp_exploration_noise` passed to the function `train`.\n",
    "\n",
    "### Neural networks architectures\n",
    "To solve the task 8 neural networks were used. 4 identical networks were used to implement the local and target neural network for the two actors (2 per agent) and other 4 for the critics (2 per agent). All units used are rectified linear units except for the output units of the actor and the critic.\n",
    "\n",
    "The actor neural network is made of 2 fully connected hidden layers and has a tanh output to limit the actions values to the [-1,1] range as per task definition. When activated the inputs of the 2 fully connected layers are fed to a batch normalization layer. Network hidden layers both have 128 units.\n",
    "\n",
    "state [-> batch_norm] -> fc(128) [-> batch_norm] -> fc(128) -> fc with tanh units (4) -> actions\n",
    "\n",
    "The critic is made of 2 fully connected hidden layers and, as proposed in the ddpg paper, the action vector is fed in the second layer.\n",
    "\n",
    "state [-> batch_norm] -> fc(128) + actions -> fc(128) -> fc with linear units (1) -> value\n",
    "\n",
    "\n",
    "The following cell creates the agent and launches the training algorithm from the tennis.py file."
   ]
  },
  {
   "cell_type": "markdown",
   "metadata": {},
   "source": [
    "### Hyperparameters description\n",
    "The DDPG agent parameters description is described in the DDPGAgent constructor\n",
    "```python\n",
    "\"\"\"\n",
    "Initialization of the Agent\n",
    "state_size         (int):   dimension of each state\n",
    "action_size        (int):   dimension of each action\n",
    "random_seed        (int):   random seed\n",
    "buffer_size        (int):   number of samples that the replay buffer can store\n",
    "batch_size         (int):   number of samples used for learning for each learning step\n",
    "gamma            (float):   reward discount factor of the MDP problem\n",
    "tau              (float):   soft update factor, between 0 and 1, varies how fast the target network are updated\n",
    "lr_actor         (float):   learning rate for the actor\n",
    "lr_critic        (float):   learning rate for the critic\n",
    "weight_decay     (float):   weight decay regularization factor\n",
    "sigma            (float):   OU noise process randomness weight\n",
    "actor_nn_size  [int,int]:   2 dim array defining the number of units in the actor NN for the two fc layers\n",
    "critic_nn_size [int,int]:   2 dim array defining the number of units in the critic NN for the two fc layers\n",
    "batch_norm        (bool):   flag to control the use of batch normalization\n",
    "clip_grad_norm    (bool):   flag to control the use of critic backprop updated gradient clipping\n",
    "\"\"\"\n",
    "```\n",
    "\n",
    "The values chosen to solve this environment are listed in the following cell as arguments of the DDPGAgent constructor."
   ]
  },
  {
   "cell_type": "code",
   "execution_count": 6,
   "metadata": {},
   "outputs": [
    {
     "name": "stdout",
     "output_type": "stream",
     "text": [
      "Episode 50\tAverage Score: 0.00\tEpisode duration 0.64\n",
      "Episode 100\tAverage Score: 0.00\tEpisode duration 0.78\n",
      "Episode 150\tAverage Score: 0.00\tEpisode duration 0.89\n",
      "Episode 200\tAverage Score: 0.00\tEpisode duration 0.85\n",
      "Episode 250\tAverage Score: 0.00\tEpisode duration 0.86\n",
      "Episode 300\tAverage Score: 0.00\tEpisode duration 0.89\n",
      "Episode 350\tAverage Score: 0.01\tEpisode duration 1.02\n",
      "Episode 400\tAverage Score: 0.01\tEpisode duration 1.00\n",
      "Episode 450\tAverage Score: 0.00\tEpisode duration 0.87\n",
      "Episode 500\tAverage Score: 0.00\tEpisode duration 0.89\n",
      "Episode 550\tAverage Score: 0.00\tEpisode duration 0.91\n",
      "Episode 600\tAverage Score: 0.00\tEpisode duration 0.96\n",
      "Episode 650\tAverage Score: 0.02\tEpisode duration 1.23\n",
      "Episode 700\tAverage Score: 0.04\tEpisode duration 1.50\n",
      "Episode 750\tAverage Score: 0.03\tEpisode duration 1.33\n",
      "Episode 800\tAverage Score: 0.01\tEpisode duration 1.06\n",
      "Episode 850\tAverage Score: 0.00\tEpisode duration 0.95\n",
      "Episode 900\tAverage Score: 0.00\tEpisode duration 0.91\n",
      "Episode 950\tAverage Score: 0.01\tEpisode duration 0.99\n",
      "Episode 1000\tAverage Score: 0.02\tEpisode duration 1.09\n",
      "Episode 1050\tAverage Score: 0.02\tEpisode duration 1.17\n",
      "Episode 1100\tAverage Score: 0.06\tEpisode duration 1.92\n",
      "Episode 1150\tAverage Score: 0.10\tEpisode duration 2.81\n",
      "Episode 1200\tAverage Score: 0.11\tEpisode duration 2.60\n",
      "Episode 1250\tAverage Score: 0.09\tEpisode duration 2.08\n",
      "Episode 1300\tAverage Score: 0.08\tEpisode duration 1.98\n",
      "Episode 1350\tAverage Score: 0.08\tEpisode duration 2.08\n",
      "Episode 1400\tAverage Score: 0.06\tEpisode duration 1.73\n",
      "Episode 1450\tAverage Score: 0.05\tEpisode duration 1.70\n",
      "Episode 1500\tAverage Score: 0.09\tEpisode duration 2.36\n",
      "Episode 1550\tAverage Score: 0.10\tEpisode duration 2.58\n",
      "Episode 1600\tAverage Score: 0.12\tEpisode duration 3.15\n",
      "Episode 1650\tAverage Score: 0.16\tEpisode duration 4.13\n",
      "Episode 1700\tAverage Score: 0.16\tEpisode duration 4.14\n",
      "Episode 1750\tAverage Score: 0.15\tEpisode duration 3.80\n",
      "Episode 1800\tAverage Score: 0.17\tEpisode duration 3.99\n",
      "Episode 1850\tAverage Score: 0.19\tEpisode duration 4.52\n",
      "Episode 1900\tAverage Score: 0.17\tEpisode duration 4.19\n",
      "Episode 1950\tAverage Score: 0.16\tEpisode duration 3.63\n",
      "Episode 2000\tAverage Score: 0.16\tEpisode duration 3.64\n",
      "Episode 2050\tAverage Score: 0.18\tEpisode duration 4.22\n",
      "Episode 2100\tAverage Score: 0.18\tEpisode duration 4.25\n",
      "Episode 2150\tAverage Score: 0.18\tEpisode duration 4.45\n",
      "Episode 2200\tAverage Score: 0.23\tEpisode duration 5.58\n",
      "Episode 2250\tAverage Score: 0.27\tEpisode duration 6.77\n",
      "Episode 2300\tAverage Score: 0.23\tEpisode duration 5.89\n",
      "Episode 2350\tAverage Score: 0.18\tEpisode duration 4.71\n",
      "Episode 2400\tAverage Score: 0.22\tEpisode duration 5.71\n",
      "Episode 2450\tAverage Score: 0.24\tEpisode duration 6.37\n",
      "Episode 2500\tAverage Score: 0.35\tEpisode duration 9.13\n",
      "Episode 2550\tAverage Score: 0.42\tEpisode duration 11.11\n",
      "Episode 2600\tAverage Score: 0.40\tEpisode duration 10.55\n",
      "Episode 2650\tAverage Score: 0.44\tEpisode duration 11.24\n",
      "Episode 2664\tAverage Score: 0.48\tEpisode duration 12.37\n",
      "Task solved in 2665 episodes\tAverage Score: 0.51\n",
      "Episode 2700\tAverage Score: 0.60\tEpisode duration 15.21\n",
      "Episode 2750\tAverage Score: 0.61\tEpisode duration 15.39\n",
      "Episode 2800\tAverage Score: 0.50\tEpisode duration 12.50\n",
      "Episode 2850\tAverage Score: 0.48\tEpisode duration 12.03\n",
      "Episode 2900\tAverage Score: 0.39\tEpisode duration 10.06\n",
      "Episode 2950\tAverage Score: 0.51\tEpisode duration 13.07\n",
      "Episode 3000\tAverage Score: 0.65\tEpisode duration 16.22\n",
      "Episode 3050\tAverage Score: 0.55\tEpisode duration 13.74\n",
      "Episode 3100\tAverage Score: 0.48\tEpisode duration 11.84\n",
      "Episode 3150\tAverage Score: 0.48\tEpisode duration 12.08\n",
      "Episode 3200\tAverage Score: 0.56\tEpisode duration 14.38\n",
      "Episode 3250\tAverage Score: 0.57\tEpisode duration 15.12\n",
      "Episode 3300\tAverage Score: 0.59\tEpisode duration 15.71\n",
      "Episode 3350\tAverage Score: 0.62\tEpisode duration 16.54\n",
      "Episode 3400\tAverage Score: 0.46\tEpisode duration 12.40\n",
      "Episode 3450\tAverage Score: 0.33\tEpisode duration 8.860\n",
      "Episode 3500\tAverage Score: 0.34\tEpisode duration 9.35\n",
      "Episode 3550\tAverage Score: 0.37\tEpisode duration 10.50\n",
      "Episode 3600\tAverage Score: 0.40\tEpisode duration 11.17\n",
      "Episode 3650\tAverage Score: 0.37\tEpisode duration 10.00\n",
      "Episode 3700\tAverage Score: 0.32\tEpisode duration 8.744\n",
      "Episode 3750\tAverage Score: 0.31\tEpisode duration 8.43\n",
      "Episode 3800\tAverage Score: 0.31\tEpisode duration 8.32\n",
      "Episode 3850\tAverage Score: 0.28\tEpisode duration 7.45\n",
      "Episode 3900\tAverage Score: 0.25\tEpisode duration 6.75\n",
      "Episode 3950\tAverage Score: 0.23\tEpisode duration 6.54\n",
      "Episode 4000\tAverage Score: 0.25\tEpisode duration 7.01\n",
      "Episode 4050\tAverage Score: 0.29\tEpisode duration 7.92\n",
      "Episode 4100\tAverage Score: 0.27\tEpisode duration 7.09\n",
      "Episode 4150\tAverage Score: 0.22\tEpisode duration 5.75\n",
      "Episode 4200\tAverage Score: 0.21\tEpisode duration 5.35\n",
      "Episode 4250\tAverage Score: 0.19\tEpisode duration 5.25\n",
      "Episode 4300\tAverage Score: 0.18\tEpisode duration 5.12\n",
      "Episode 4350\tAverage Score: 0.18\tEpisode duration 4.95\n",
      "Episode 4400\tAverage Score: 0.18\tEpisode duration 4.89\n",
      "Episode 4450\tAverage Score: 0.18\tEpisode duration 6.08\n",
      "Episode 4500\tAverage Score: 0.19\tEpisode duration 6.37\n",
      "Episode 4550\tAverage Score: 0.21\tEpisode duration 5.74\n",
      "Episode 4600\tAverage Score: 0.23\tEpisode duration 6.23\n",
      "Episode 4650\tAverage Score: 0.24\tEpisode duration 6.56\n",
      "Episode 4700\tAverage Score: 0.24\tEpisode duration 9.76\n",
      "Episode 4750\tAverage Score: 0.21\tEpisode duration 12.94\n",
      "Episode 4800\tAverage Score: 0.20\tEpisode duration 13.76\n",
      "Episode 4850\tAverage Score: 0.20\tEpisode duration 13.56\n",
      "Episode 4900\tAverage Score: 0.18\tEpisode duration 12.12\n",
      "Episode 4950\tAverage Score: 0.18\tEpisode duration 12.77\n",
      "Episode 4999\tAverage Score: 0.18\tEpisode duration 13.19\n"
     ]
    }
   ],
   "source": [
    "agent = DDPGAgent(state_size, action_size,\n",
    "        random_seed = 0,\n",
    "        buffer_size = int(1e5),\n",
    "        batch_size = 256,\n",
    "        gamma = 1,\n",
    "        tau = 1e-3,\n",
    "        lr_actor = 1e-4,\n",
    "        lr_critic = 1e-4,\n",
    "        weight_decay = 0,\n",
    "        sigma = 0.1,\n",
    "        actor_nn_size = [128, 128],\n",
    "        critic_nn_size = [128,128],\n",
    "        batch_norm = True,\n",
    "        clip_grad_norm = True)\n",
    "\n",
    "scores, avg_scores, std, save_path = train(agent, env,\n",
    "                                           n_episodes = 5000,\n",
    "                                           score_window_size = 100,\n",
    "                                           print_every = 50,\n",
    "                                           max_score = 0.5,\n",
    "                                           damp_exploration_noise = False)"
   ]
  },
  {
   "cell_type": "markdown",
   "metadata": {},
   "source": [
    "we plot the scores during training"
   ]
  },
  {
   "cell_type": "code",
   "execution_count": 11,
   "metadata": {},
   "outputs": [
    {
     "data": {
      "image/png": "[encoded data removed]",
      "text/plain": [
       "<Figure size 432x288 with 1 Axes>"
      ]
     },
     "metadata": {
      "needs_background": "light"
     },
     "output_type": "display_data"
    }
   ],
   "source": [
    "plot_scores(scores, avg_scores, std)"
   ]
  },
  {
   "cell_type": "markdown",
   "metadata": {},
   "source": [
    "We watch the demo of the trained agent to assess its performances"
   ]
  },
  {
   "cell_type": "code",
   "execution_count": 12,
   "metadata": {},
   "outputs": [],
   "source": [
    "demo(agent, env, num_episodes=300)"
   ]
  },
  {
   "cell_type": "markdown",
   "metadata": {},
   "source": [
    "Finally, we close the environment."
   ]
  },
  {
   "cell_type": "code",
   "execution_count": 13,
   "metadata": {},
   "outputs": [],
   "source": [
    "env.close()"
   ]
  },
  {
   "cell_type": "markdown",
   "metadata": {},
   "source": [
    "### Future improvements\n",
    "The following future improvements should be implemented:\n",
    "\n",
    "- Test new algorithms such as A2C, A3C, PPO, TRPO instead of DDPG etc...\n",
    "- Implement a prioritized replay buffer for the critic\n",
    "- Implement the MADDPG algorithm\n",
    "- Implement GAE to train the critic\n",
    "- Try to solve the soccer task\n",
    "- Optimize hyperparameters further on using, for instance, random sampling"
   ]
  }
 ],
 "metadata": {
  "kernelspec": {
   "display_name": "Python 3",
   "language": "python",
   "name": "python3"
  },
  "language_info": {
   "codemirror_mode": {
    "name": "ipython",
    "version": 3
   },
   "file_extension": ".py",
   "mimetype": "text/x-python",
   "name": "python",
   "nbconvert_exporter": "python",
   "pygments_lexer": "ipython3",
   "version": "3.6.7"
  }
 },
 "nbformat": 4,
 "nbformat_minor": 2
}
