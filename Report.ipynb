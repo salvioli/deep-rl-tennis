{
 "cells": [
  {
   "cell_type": "markdown",
   "metadata": {},
   "source": [
    "# Deep RL tennis agents project\n",
    "\n",
    "This notebook provides a description of the implementation I submitted for the third project of the [Deep Reinforcement Learning Nanodegree](https://www.udacity.com/course/deep-reinforcement-learning-nanodegree--nd893) program.\n",
    "\n",
    "We begin starting and inspecting the envinronment and the task then we will proceed training the agents and then we will check how the two agents are playing."
   ]
  },
  {
   "cell_type": "code",
   "execution_count": 1,
   "metadata": {
    "collapsed": true
   },
   "outputs": [
    {
     "name": "stdout",
     "output_type": "stream",
     "text": [
      "Requirement already satisfied: unityagents in /home/ammi/Development/deep-rl-tennis/lib/python3.6/site-packages\n",
      "Requirement already satisfied: grpcio==1.11.0 in /home/ammi/Development/deep-rl-tennis/lib/python3.6/site-packages (from unityagents)\n",
      "Requirement already satisfied: pyyaml in /home/ammi/Development/deep-rl-tennis/lib/python3.6/site-packages (from unityagents)\n",
      "Requirement already satisfied: jupyter in /home/ammi/Development/deep-rl-tennis/lib/python3.6/site-packages (from unityagents)\n",
      "Requirement already satisfied: numpy>=1.11.0 in /home/ammi/Development/deep-rl-tennis/lib/python3.6/site-packages (from unityagents)\n",
      "Requirement already satisfied: docopt in /home/ammi/Development/deep-rl-tennis/lib/python3.6/site-packages (from unityagents)\n",
      "Requirement already satisfied: protobuf==3.5.2 in /home/ammi/Development/deep-rl-tennis/lib/python3.6/site-packages (from unityagents)\n",
      "Requirement already satisfied: Pillow>=4.2.1 in /home/ammi/Development/deep-rl-tennis/lib/python3.6/site-packages (from unityagents)\n",
      "Requirement already satisfied: tensorflow==1.7.1 in /home/ammi/Development/deep-rl-tennis/lib/python3.6/site-packages (from unityagents)\n",
      "Requirement already satisfied: pytest>=3.2.2 in /home/ammi/Development/deep-rl-tennis/lib/python3.6/site-packages (from unityagents)\n",
      "Requirement already satisfied: matplotlib in /home/ammi/Development/deep-rl-tennis/lib/python3.6/site-packages (from unityagents)\n",
      "Requirement already satisfied: six>=1.5.2 in /home/ammi/Development/deep-rl-tennis/lib/python3.6/site-packages (from grpcio==1.11.0->unityagents)\n",
      "Requirement already satisfied: nbconvert in /home/ammi/Development/deep-rl-tennis/lib/python3.6/site-packages (from jupyter->unityagents)\n",
      "Requirement already satisfied: jupyter-console in /home/ammi/Development/deep-rl-tennis/lib/python3.6/site-packages (from jupyter->unityagents)\n",
      "Requirement already satisfied: notebook in /home/ammi/Development/deep-rl-tennis/lib/python3.6/site-packages (from jupyter->unityagents)\n",
      "Requirement already satisfied: ipykernel in /home/ammi/Development/deep-rl-tennis/lib/python3.6/site-packages (from jupyter->unityagents)\n",
      "Requirement already satisfied: ipywidgets in /home/ammi/Development/deep-rl-tennis/lib/python3.6/site-packages (from jupyter->unityagents)\n",
      "Requirement already satisfied: qtconsole in /home/ammi/Development/deep-rl-tennis/lib/python3.6/site-packages (from jupyter->unityagents)\n",
      "Requirement already satisfied: setuptools in /home/ammi/Development/deep-rl-tennis/lib/python3.6/site-packages/setuptools-28.8.0-py3.6.egg (from protobuf==3.5.2->unityagents)\n",
      "Requirement already satisfied: absl-py>=0.1.6 in /home/ammi/Development/deep-rl-tennis/lib/python3.6/site-packages (from tensorflow==1.7.1->unityagents)\n",
      "Requirement already satisfied: gast>=0.2.0 in /home/ammi/Development/deep-rl-tennis/lib/python3.6/site-packages (from tensorflow==1.7.1->unityagents)\n",
      "Requirement already satisfied: tensorboard<1.8.0,>=1.7.0 in /home/ammi/Development/deep-rl-tennis/lib/python3.6/site-packages (from tensorflow==1.7.1->unityagents)\n",
      "Requirement already satisfied: termcolor>=1.1.0 in /home/ammi/Development/deep-rl-tennis/lib/python3.6/site-packages (from tensorflow==1.7.1->unityagents)\n",
      "Requirement already satisfied: wheel>=0.26 in /home/ammi/Development/deep-rl-tennis/lib/python3.6/site-packages (from tensorflow==1.7.1->unityagents)\n",
      "Requirement already satisfied: astor>=0.6.0 in /home/ammi/Development/deep-rl-tennis/lib/python3.6/site-packages (from tensorflow==1.7.1->unityagents)\n",
      "Requirement already satisfied: py>=1.5.0 in /home/ammi/Development/deep-rl-tennis/lib/python3.6/site-packages (from pytest>=3.2.2->unityagents)\n",
      "Requirement already satisfied: pluggy>=0.7 in /home/ammi/Development/deep-rl-tennis/lib/python3.6/site-packages (from pytest>=3.2.2->unityagents)\n",
      "Requirement already satisfied: atomicwrites>=1.0 in /home/ammi/Development/deep-rl-tennis/lib/python3.6/site-packages (from pytest>=3.2.2->unityagents)\n",
      "Requirement already satisfied: more-itertools>=4.0.0 in /home/ammi/Development/deep-rl-tennis/lib/python3.6/site-packages (from pytest>=3.2.2->unityagents)\n",
      "Requirement already satisfied: attrs>=17.4.0 in /home/ammi/Development/deep-rl-tennis/lib/python3.6/site-packages (from pytest>=3.2.2->unityagents)\n",
      "Requirement already satisfied: pyparsing!=2.0.4,!=2.1.2,!=2.1.6,>=2.0.1 in /home/ammi/Development/deep-rl-tennis/lib/python3.6/site-packages (from matplotlib->unityagents)\n",
      "Requirement already satisfied: python-dateutil>=2.1 in /home/ammi/Development/deep-rl-tennis/lib/python3.6/site-packages (from matplotlib->unityagents)\n",
      "Requirement already satisfied: cycler>=0.10 in /home/ammi/Development/deep-rl-tennis/lib/python3.6/site-packages (from matplotlib->unityagents)\n",
      "Requirement already satisfied: kiwisolver>=1.0.1 in /home/ammi/Development/deep-rl-tennis/lib/python3.6/site-packages (from matplotlib->unityagents)\n",
      "Requirement already satisfied: entrypoints>=0.2.2 in /home/ammi/Development/deep-rl-tennis/lib/python3.6/site-packages (from nbconvert->jupyter->unityagents)\n",
      "Requirement already satisfied: bleach in /home/ammi/Development/deep-rl-tennis/lib/python3.6/site-packages (from nbconvert->jupyter->unityagents)\n",
      "Requirement already satisfied: testpath in /home/ammi/Development/deep-rl-tennis/lib/python3.6/site-packages (from nbconvert->jupyter->unityagents)\n",
      "Requirement already satisfied: traitlets>=4.2 in /home/ammi/Development/deep-rl-tennis/lib/python3.6/site-packages (from nbconvert->jupyter->unityagents)\n",
      "Requirement already satisfied: jinja2 in /home/ammi/Development/deep-rl-tennis/lib/python3.6/site-packages (from nbconvert->jupyter->unityagents)\n",
      "Requirement already satisfied: nbformat>=4.4 in /home/ammi/Development/deep-rl-tennis/lib/python3.6/site-packages (from nbconvert->jupyter->unityagents)\n",
      "Requirement already satisfied: mistune>=0.8.1 in /home/ammi/Development/deep-rl-tennis/lib/python3.6/site-packages (from nbconvert->jupyter->unityagents)\n",
      "Requirement already satisfied: pandocfilters>=1.4.1 in /home/ammi/Development/deep-rl-tennis/lib/python3.6/site-packages (from nbconvert->jupyter->unityagents)\n",
      "Requirement already satisfied: jupyter-core in /home/ammi/Development/deep-rl-tennis/lib/python3.6/site-packages (from nbconvert->jupyter->unityagents)\n",
      "Requirement already satisfied: defusedxml in /home/ammi/Development/deep-rl-tennis/lib/python3.6/site-packages (from nbconvert->jupyter->unityagents)\n",
      "Requirement already satisfied: pygments in /home/ammi/Development/deep-rl-tennis/lib/python3.6/site-packages (from nbconvert->jupyter->unityagents)\n",
      "Requirement already satisfied: prompt-toolkit<2.1.0,>=2.0.0 in /home/ammi/Development/deep-rl-tennis/lib/python3.6/site-packages (from jupyter-console->jupyter->unityagents)\n",
      "Requirement already satisfied: jupyter-client in /home/ammi/Development/deep-rl-tennis/lib/python3.6/site-packages (from jupyter-console->jupyter->unityagents)\n",
      "Requirement already satisfied: ipython in /home/ammi/Development/deep-rl-tennis/lib/python3.6/site-packages (from jupyter-console->jupyter->unityagents)\n",
      "Requirement already satisfied: pyzmq>=17 in /home/ammi/Development/deep-rl-tennis/lib/python3.6/site-packages (from notebook->jupyter->unityagents)\n",
      "Requirement already satisfied: ipython-genutils in /home/ammi/Development/deep-rl-tennis/lib/python3.6/site-packages (from notebook->jupyter->unityagents)\n",
      "Requirement already satisfied: prometheus-client in /home/ammi/Development/deep-rl-tennis/lib/python3.6/site-packages (from notebook->jupyter->unityagents)\n",
      "Requirement already satisfied: Send2Trash in /home/ammi/Development/deep-rl-tennis/lib/python3.6/site-packages (from notebook->jupyter->unityagents)\n",
      "Requirement already satisfied: tornado>=4 in /home/ammi/Development/deep-rl-tennis/lib/python3.6/site-packages (from notebook->jupyter->unityagents)\n",
      "Requirement already satisfied: terminado>=0.8.1 in /home/ammi/Development/deep-rl-tennis/lib/python3.6/site-packages (from notebook->jupyter->unityagents)\n",
      "Requirement already satisfied: widgetsnbextension~=3.4.0 in /home/ammi/Development/deep-rl-tennis/lib/python3.6/site-packages (from ipywidgets->jupyter->unityagents)\n",
      "Requirement already satisfied: werkzeug>=0.11.10 in /home/ammi/Development/deep-rl-tennis/lib/python3.6/site-packages (from tensorboard<1.8.0,>=1.7.0->tensorflow==1.7.1->unityagents)\n"
     ]
    },
    {
     "name": "stdout",
     "output_type": "stream",
     "text": [
      "Requirement already satisfied: html5lib==0.9999999 in /home/ammi/Development/deep-rl-tennis/lib/python3.6/site-packages (from tensorboard<1.8.0,>=1.7.0->tensorflow==1.7.1->unityagents)\n",
      "Requirement already satisfied: markdown>=2.6.8 in /home/ammi/Development/deep-rl-tennis/lib/python3.6/site-packages (from tensorboard<1.8.0,>=1.7.0->tensorflow==1.7.1->unityagents)\n",
      "Requirement already satisfied: decorator in /home/ammi/Development/deep-rl-tennis/lib/python3.6/site-packages (from traitlets>=4.2->nbconvert->jupyter->unityagents)\n",
      "Requirement already satisfied: MarkupSafe>=0.23 in /home/ammi/Development/deep-rl-tennis/lib/python3.6/site-packages (from jinja2->nbconvert->jupyter->unityagents)\n",
      "Requirement already satisfied: jsonschema!=2.5.0,>=2.4 in /home/ammi/Development/deep-rl-tennis/lib/python3.6/site-packages (from nbformat>=4.4->nbconvert->jupyter->unityagents)\n",
      "Requirement already satisfied: wcwidth in /home/ammi/Development/deep-rl-tennis/lib/python3.6/site-packages (from prompt-toolkit<2.1.0,>=2.0.0->jupyter-console->jupyter->unityagents)\n",
      "Requirement already satisfied: pexpect; sys_platform != \"win32\" in /home/ammi/Development/deep-rl-tennis/lib/python3.6/site-packages (from ipython->jupyter-console->jupyter->unityagents)\n",
      "Requirement already satisfied: pickleshare in /home/ammi/Development/deep-rl-tennis/lib/python3.6/site-packages (from ipython->jupyter-console->jupyter->unityagents)\n",
      "Requirement already satisfied: backcall in /home/ammi/Development/deep-rl-tennis/lib/python3.6/site-packages (from ipython->jupyter-console->jupyter->unityagents)\n",
      "Requirement already satisfied: jedi>=0.10 in /home/ammi/Development/deep-rl-tennis/lib/python3.6/site-packages (from ipython->jupyter-console->jupyter->unityagents)\n",
      "Requirement already satisfied: ptyprocess; os_name != \"nt\" in /home/ammi/Development/deep-rl-tennis/lib/python3.6/site-packages (from terminado>=0.8.1->notebook->jupyter->unityagents)\n",
      "Requirement already satisfied: parso>=0.3.0 in /home/ammi/Development/deep-rl-tennis/lib/python3.6/site-packages (from jedi>=0.10->ipython->jupyter-console->jupyter->unityagents)\n",
      "\u001b[33mYou are using pip version 9.0.1, however version 18.1 is available.\n",
      "You should consider upgrading via the 'pip install --upgrade pip' command.\u001b[0m\n",
      "Requirement already satisfied: torch in /home/ammi/Development/deep-rl-tennis/lib/python3.6/site-packages\n",
      "\u001b[33mYou are using pip version 9.0.1, however version 18.1 is available.\n",
      "You should consider upgrading via the 'pip install --upgrade pip' command.\u001b[0m\n",
      "Requirement already satisfied: numpy in /home/ammi/Development/deep-rl-tennis/lib/python3.6/site-packages\n",
      "\u001b[33mYou are using pip version 9.0.1, however version 18.1 is available.\n",
      "You should consider upgrading via the 'pip install --upgrade pip' command.\u001b[0m\n",
      "Requirement already satisfied: matplotlib in /home/ammi/Development/deep-rl-tennis/lib/python3.6/site-packages\n",
      "Requirement already satisfied: python-dateutil>=2.1 in /home/ammi/Development/deep-rl-tennis/lib/python3.6/site-packages (from matplotlib)\n",
      "Requirement already satisfied: pyparsing!=2.0.4,!=2.1.2,!=2.1.6,>=2.0.1 in /home/ammi/Development/deep-rl-tennis/lib/python3.6/site-packages (from matplotlib)\n",
      "Requirement already satisfied: kiwisolver>=1.0.1 in /home/ammi/Development/deep-rl-tennis/lib/python3.6/site-packages (from matplotlib)\n",
      "Requirement already satisfied: numpy>=1.10.0 in /home/ammi/Development/deep-rl-tennis/lib/python3.6/site-packages (from matplotlib)\n",
      "Requirement already satisfied: cycler>=0.10 in /home/ammi/Development/deep-rl-tennis/lib/python3.6/site-packages (from matplotlib)\n",
      "Requirement already satisfied: six>=1.5 in /home/ammi/Development/deep-rl-tennis/lib/python3.6/site-packages (from python-dateutil>=2.1->matplotlib)\n",
      "Requirement already satisfied: setuptools in /home/ammi/Development/deep-rl-tennis/lib/python3.6/site-packages/setuptools-28.8.0-py3.6.egg (from kiwisolver>=1.0.1->matplotlib)\n",
      "\u001b[33mYou are using pip version 9.0.1, however version 18.1 is available.\n",
      "You should consider upgrading via the 'pip install --upgrade pip' command.\u001b[0m\n",
      "Collecting prompt-toolkit==1.0.15\n",
      "  Using cached https://files.pythonhosted.org/packages/04/d1/c6616dd03701e7e2073f06d5c3b41b012256e42b72561f16a7bd86dd7b43/prompt_toolkit-1.0.15-py3-none-any.whl\n",
      "Requirement already satisfied: six>=1.9.0 in /home/ammi/Development/deep-rl-tennis/lib/python3.6/site-packages (from prompt-toolkit==1.0.15)\n",
      "Requirement already satisfied: wcwidth in /home/ammi/Development/deep-rl-tennis/lib/python3.6/site-packages (from prompt-toolkit==1.0.15)\n",
      "Installing collected packages: prompt-toolkit\n",
      "  Found existing installation: prompt-toolkit 2.0.7\n",
      "    Uninstalling prompt-toolkit-2.0.7:\n",
      "      Successfully uninstalled prompt-toolkit-2.0.7\n",
      "Successfully installed prompt-toolkit-1.0.15\n",
      "\u001b[33mYou are using pip version 9.0.1, however version 18.1 is available.\n",
      "You should consider upgrading via the 'pip install --upgrade pip' command.\u001b[0m\n"
     ]
    }
   ],
   "source": [
    "!python -m pip install unityagents\n",
    "!python -m pip install torch\n",
    "!python -m pip install numpy\n",
    "!python -m pip install matplotlib\n",
    "!python -m pip install 'prompt-toolkit==1.0.15'"
   ]
  },
  {
   "cell_type": "markdown",
   "metadata": {},
   "source": [
    "### 1. Start the Environment\n",
    "\n",
    "We begin by importing the necessary packages.  If the code cell below returns an error, please revisit the project instructions to double-check that you have installed [Unity ML-Agents](https://github.com/Unity-Technologies/ml-agents/blob/master/docs/Installation.md) and [NumPy](http://www.numpy.org/)."
   ]
  },
  {
   "cell_type": "code",
   "execution_count": null,
   "metadata": {},
   "outputs": [],
   "source": [
    "from unityagents import UnityEnvironment\n",
    "from tennis import *"
   ]
  },
  {
   "cell_type": "markdown",
   "metadata": {},
   "source": [
    "Next, we will start the environment!  **_Before running the code cell below_**, change the `file_name` parameter to match the location of the Unity environment that you downloaded.\n",
    "\n",
    "- **Mac**: `\"path/to/Tennis.app\"`\n",
    "- **Windows** (x86): `\"path/to/Tennis_Windows_x86/Tennis.exe\"`\n",
    "- **Windows** (x86_64): `\"path/to/Tennis_Windows_x86_64/Tennis.exe\"`\n",
    "- **Linux** (x86): `\"path/to/Tennis_Linux/Tennis.x86\"`\n",
    "- **Linux** (x86_64): `\"path/to/Tennis_Linux/Tennis.x86_64\"`\n",
    "- **Linux** (x86, headless): `\"path/to/Tennis_Linux_NoVis/Tennis.x86\"`\n",
    "- **Linux** (x86_64, headless): `\"path/to/Tennis_Linux_NoVis/Tennis.x86_64\"`\n",
    "\n",
    "For instance, if you are using a Mac, then you downloaded `Tennis.app`.  If this file is in the same folder as the notebook, then the line below should appear as follows:\n",
    "```\n",
    "env = UnityEnvironment(file_name=\"Tennis.app\")\n",
    "```"
   ]
  },
  {
   "cell_type": "code",
   "execution_count": null,
   "metadata": {},
   "outputs": [],
   "source": [
    "env = UnityEnvironment(file_name=\"./resources/Tennis_Linux/Tennis.x86_64\")"
   ]
  },
  {
   "cell_type": "markdown",
   "metadata": {},
   "source": [
    "Environments contain **_brains_** which are responsible for deciding the actions of their associated agents. Here we check for the first brain available, and set it as the default brain we will be controlling from Python."
   ]
  },
  {
   "cell_type": "code",
   "execution_count": null,
   "metadata": {},
   "outputs": [],
   "source": [
    "# get the default brain\n",
    "brain_name = env.brain_names[0]\n",
    "brain = env.brains[brain_name]"
   ]
  },
  {
   "cell_type": "markdown",
   "metadata": {},
   "source": [
    "### 2. Examine the State and Action Spaces\n",
    "\n",
    "In this environment, two agents control rackets to bounce a ball over a net. If an agent hits the ball over the net, it receives a reward of +0.1.  If an agent lets a ball hit the ground or hits the ball out of bounds, it receives a reward of -0.01.  Thus, the goal of each agent is to keep the ball in play.\n",
    "\n",
    "The observation space consists of 8 variables corresponding to the position and velocity of the ball and racket. Two continuous actions are available, corresponding to movement toward (or away from) the net, and jumping. \n",
    "\n",
    "Run the code cell below to print some information about the environment."
   ]
  },
  {
   "cell_type": "code",
   "execution_count": null,
   "metadata": {},
   "outputs": [],
   "source": [
    "# reset the environment\n",
    "env_info = env.reset(train_mode=True)[brain_name]\n",
    "\n",
    "# number of agents \n",
    "num_agents = len(env_info.agents)\n",
    "print('Number of agents:', num_agents)\n",
    "\n",
    "# size of each action\n",
    "action_size = brain.vector_action_space_size\n",
    "print('Size of each action:', action_size)\n",
    "\n",
    "# examine the state space \n",
    "states = env_info.vector_observations\n",
    "state_size = states.shape[1]\n",
    "print('There are {} agents. Each observes a state with length: {}'.format(states.shape[0], state_size))\n",
    "print('The state for the first agent looks like:', states[0])"
   ]
  },
  {
   "cell_type": "markdown",
   "metadata": {},
   "source": [
    "## Solution - shadow agent\n",
    "We try to solve the task using an algorithm which trains a DDPG agent which plays against its best version of itself. The following cell creates the agent and launches the training algorithm from the tennis.py file."
   ]
  },
  {
   "cell_type": "code",
   "execution_count": null,
   "metadata": {},
   "outputs": [],
   "source": [
    "agent = DDPGAgent(state_size, action_size,\n",
    "        random_seed = 0,\n",
    "        buffer_size = 1e5,\n",
    "        batch_size = 256,\n",
    "        gamma = 1,\n",
    "        tau = ,\n",
    "        lr_actor = 1e-4,\n",
    "        lr_critic = 1e-4,\n",
    "        weight_decay = 0,\n",
    "        sigma = 0.1,\n",
    "        actor_nn_size = [128, 128],\n",
    "        critic_nn_size = [128,128],\n",
    "        batch_norm = true,\n",
    "        clip_grad_norm = true)\n",
    "\n",
    "scores, avg_scores, std, save_path = train(agent, env,\n",
    "                                           n_episodes = 2000,\n",
    "                                           score_window_size = 100,\n",
    "                                           print_every = 50,\n",
    "                                           max_score = 0.5,\n",
    "                                           damp_exploration_noise = false)\n",
    "\n",
    "plot_scores(scores, avgscores, std)"
   ]
  },
  {
   "cell_type": "markdown",
   "metadata": {},
   "source": [
    "We watch the demo of the trained agent to assess its performances"
   ]
  },
  {
   "cell_type": "code",
   "execution_count": null,
   "metadata": {},
   "outputs": [],
   "source": [
    "demo(agent, env, num_episodes=10)"
   ]
  },
  {
   "cell_type": "markdown",
   "metadata": {},
   "source": [
    "When finished, you can close the environment."
   ]
  },
  {
   "cell_type": "markdown",
   "metadata": {},
   "source": [
    "Finally, we close the environment."
   ]
  },
  {
   "cell_type": "code",
   "execution_count": null,
   "metadata": {},
   "outputs": [],
   "source": [
    "env.close()"
   ]
  },
  {
   "cell_type": "markdown",
   "metadata": {},
   "source": [
    "### 4. It's Your Turn!\n",
    "\n",
    "Now it's your turn to train your own agent to solve the environment!  When training the environment, set `train_mode=True`, so that the line for resetting the environment looks like the following:\n",
    "```python\n",
    "env_info = env.reset(train_mode=True)[brain_name]\n",
    "```"
   ]
  }
 ],
 "metadata": {
  "kernelspec": {
   "display_name": "Python 3",
   "language": "python",
   "name": "python3"
  },
  "language_info": {
   "codemirror_mode": {
    "name": "ipython",
    "version": 3
   },
   "file_extension": ".py",
   "mimetype": "text/x-python",
   "name": "python",
   "nbconvert_exporter": "python",
   "pygments_lexer": "ipython3",
   "version": "3.6.7"
  }
 },
 "nbformat": 4,
 "nbformat_minor": 2
}
